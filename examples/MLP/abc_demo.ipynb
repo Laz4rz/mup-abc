{
 "cells": [
  {
   "cell_type": "code",
   "execution_count": 1,
   "id": "0df5f753",
   "metadata": {},
   "outputs": [],
   "source": [
    "import math, torch\n",
    "import torch.nn as nn\n",
    "import torch.nn.functional as F\n",
    "\n",
    "class AbcLinear(nn.Module):\n",
    "    \"\"\"\n",
    "    A fully-connected layer that realises the abc-parametrisation:\n",
    "        W = n^{-a} · w,       w_ij ~ N(0, n^{-2b})\n",
    "    where n is the (potentially-infinite) input width.\n",
    "    \"\"\"\n",
    "    def __init__(self,\n",
    "                 in_features: int,\n",
    "                 out_features: int,\n",
    "                 a: float = 0.0,\n",
    "                 b: float = 0.0,\n",
    "                 bias: bool = False):\n",
    "        super().__init__()\n",
    "        self.in_features  = in_features\n",
    "        self.out_features = out_features\n",
    "        self.n_infty      = in_features            # width that may go →∞\n",
    "        self.a, self.b    = a, b\n",
    "\n",
    "        # “small-w” parameters (no scaling yet)\n",
    "        self.weight = nn.Parameter(torch.empty(out_features, in_features))\n",
    "        if bias:\n",
    "            self.bias = nn.Parameter(torch.zeros(out_features))\n",
    "        else:\n",
    "            self.register_parameter(\"bias\", None)\n",
    "\n",
    "        self.reset_parameters()\n",
    "\n",
    "        # stash n_infty on the tensor so the optimizer can see it\n",
    "        self.weight.n_infty = self.n_infty\n",
    "\n",
    "    def reset_parameters(self):\n",
    "        # Initialise  w_ij  ~ 𝒩(0, n^{-2b})\n",
    "        std = self.n_infty ** (-self.b)\n",
    "        with torch.no_grad():\n",
    "            self.weight.normal_(0.0, std)\n",
    "        if self.bias is not None:\n",
    "            nn.init.zeros_(self.bias)\n",
    "\n",
    "    def forward(self, x):\n",
    "        scale = self.n_infty ** (-self.a)      # multiply by n^{-a}\n",
    "        return F.linear(x, scale * self.weight, self.bias)"
   ]
  },
  {
   "cell_type": "code",
   "execution_count": null,
   "id": "f893dd82",
   "metadata": {},
   "outputs": [],
   "source": [
    "class AbcMLP(nn.Module):\n",
    "    \"\"\"\n",
    "    Minimal 2-layer MLP (Input→H1→H2→Read-out) governed by per-layer (a,b)\n",
    "    and a *global* exponent c that the optimiser will use.\n",
    "    \"\"\"\n",
    "    def __init__(self,\n",
    "                 width: int          = 256,\n",
    "                 a_b_list: list      = None,   # [(a1,b1), (a2,b2), (a3,b3)]\n",
    "                 act_fn              = F.relu):\n",
    "        super().__init__()\n",
    "        if a_b_list is None:\n",
    "            # -- defaults reproduce μP -----------------------------\n",
    "            a_b_list = [(0.0, 0.0),   # first layer\n",
    "                        (0.0, 0.5),   # hidden\n",
    "                        (0.0, 0.5)]   # read-out\n",
    "        (a1,b1), (a2,b2), (a3,b3) = a_b_list\n",
    "\n",
    "        self.act      = act_fn\n",
    "        self.fc1      = AbcLinear(32*32*3, width, a=a1, b=b1, bias=False)\n",
    "        self.fc2      = AbcLinear(width,     width, a=a2, b=b2, bias=False)\n",
    "        self.readout  = AbcLinear(width,        10, a=a3, b=b3, bias=False)\n",
    "\n",
    "        with torch.no_grad():\n",
    "            self.readout.weight.zero_()\n",
    "\n",
    "    def forward(self, x):\n",
    "        x  = x.flatten(1)           # B × 3072\n",
    "        h1 = self.act(self.fc1(x))\n",
    "        h2 = self.act(self.fc2(h1))\n",
    "        return self.readout(h2)\n"
   ]
  },
  {
   "cell_type": "code",
   "execution_count": 3,
   "id": "89f5b06c",
   "metadata": {},
   "outputs": [],
   "source": [
    "def make_abc_sgd(model, base_lr: float = 0.1, c: float = 0.0, momentum=0.9):\n",
    "    \"\"\"\n",
    "    Create torch.optim.SGD with one param-group per distinct n_infty so\n",
    "    each group gets η · n^{-c}.  (If c=0 you recover μP.)\n",
    "    \"\"\"\n",
    "    groups = {}\n",
    "    for p in model.parameters():\n",
    "        n = getattr(p, \"n_infty\", None)\n",
    "        if n is None:                      # bias / non-scaled param  → same lr\n",
    "            n = 1\n",
    "        eff_lr = base_lr * (n ** (-c))\n",
    "        groups.setdefault(eff_lr, []).append(p)\n",
    "\n",
    "    param_groups = [ {\"params\": v, \"lr\": k, \"momentum\": momentum}\n",
    "                     for k, v in groups.items() ]\n",
    "    return torch.optim.SGD(param_groups)\n"
   ]
  },
  {
   "cell_type": "code",
   "execution_count": 4,
   "id": "490161e2",
   "metadata": {},
   "outputs": [],
   "source": [
    "abc_defaults = [(0,0), (0,0.5), (0,0.5)]   # a,b per layer → μP\n",
    "net      = AbcMLP(width=256, a_b_list=abc_defaults).cuda()\n",
    "opt      = make_abc_sgd(net, base_lr=0.1, c=0.0, momentum=0.9)\n",
    "criterion = torch.nn.CrossEntropyLoss()\n"
   ]
  },
  {
   "cell_type": "code",
   "execution_count": 6,
   "id": "cd4426fc",
   "metadata": {},
   "outputs": [
    {
     "name": "stderr",
     "output_type": "stream",
     "text": [
      "100%|██████████| 170M/170M [00:06<00:00, 27.9MB/s] \n"
     ]
    }
   ],
   "source": [
    "import torch\n",
    "import torch.nn as nn\n",
    "import torch.nn.functional as F\n",
    "import torchvision\n",
    "from torchvision import transforms, datasets\n",
    "\n",
    "# Device configuration\n",
    "device = torch.device('cuda' if torch.cuda.is_available() else 'cpu')\n",
    "\n",
    "# CIFAR-10 normalization: mean and std for each channel\n",
    "transform = transforms.Compose([\n",
    "    transforms.ToTensor(),\n",
    "    transforms.Normalize((0.5, 0.5, 0.5),  # mean for R,G,B\n",
    "                         (0.5, 0.5, 0.5))  # std for R,G,B\n",
    "])\n",
    "\n",
    "# Load training and test sets\n",
    "train_dataset = datasets.CIFAR10(root='./data', train=True, download=True, transform=transform)\n",
    "test_dataset  = datasets.CIFAR10(root='./data', train=False, download=True, transform=transform)\n",
    "\n",
    "train_loader = torch.utils.data.DataLoader(train_dataset, batch_size=64, shuffle=True)\n",
    "test_loader  = torch.utils.data.DataLoader(test_dataset, batch_size=64, shuffle=False)\n"
   ]
  },
  {
   "cell_type": "code",
   "execution_count": 9,
   "id": "ec5b8ca1",
   "metadata": {},
   "outputs": [
    {
     "name": "stdout",
     "output_type": "stream",
     "text": [
      "width 64        logits mean +0.00000000000000000000e+00   std 0.00000000000000000000e+00\n",
      "width 512       logits mean +0.00000000000000000000e+00   std 0.00000000000000000000e+00\n",
      "width 4096      logits mean +0.00000000000000000000e+00   std 0.00000000000000000000e+00\n"
     ]
    }
   ],
   "source": [
    "with torch.no_grad():\n",
    "    x,_  = next(iter(train_loader))\n",
    "    x    = x.cuda()\n",
    "    for w in [64, 512, 4096]:\n",
    "        mdl = AbcMLP(width=w, a_b_list=abc_defaults).cuda()\n",
    "        out = mdl(x)\n",
    "        print(f\"width {w:<8}  logits mean {out.mean():+.20e}   std {out.std():.20e}\")\n"
   ]
  },
  {
   "cell_type": "code",
   "execution_count": null,
   "id": "a199d5ad",
   "metadata": {},
   "outputs": [],
   "source": []
  }
 ],
 "metadata": {
  "kernelspec": {
   "display_name": "mup-abc",
   "language": "python",
   "name": "python3"
  },
  "language_info": {
   "codemirror_mode": {
    "name": "ipython",
    "version": 3
   },
   "file_extension": ".py",
   "mimetype": "text/x-python",
   "name": "python",
   "nbconvert_exporter": "python",
   "pygments_lexer": "ipython3",
   "version": "3.11.11"
  }
 },
 "nbformat": 4,
 "nbformat_minor": 5
}
